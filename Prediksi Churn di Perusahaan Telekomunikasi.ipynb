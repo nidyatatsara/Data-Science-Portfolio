{
 "cells": [
  {
   "cell_type": "markdown",
   "metadata": {},
   "source": [
    "<br>\n",
    "\n",
    "# Prediksi Churn di Perusahaan Telekomunikasi"
   ]
  },
  {
   "cell_type": "markdown",
   "metadata": {},
   "source": [
    "Churn merupakan dampak dari persaingan di dunia bisnis telekomunikasi. Churn adalah keadaan dimana seorang pelanggan berpindah dari suatu provider ke provider lainnya. Semakin tinggi tingkat churn maka pendapat perusahaan akan semakin kecil di masa depan. Oleh sebab itu, perusahaan telco berupaya untuk mencegah pelanggan mereka untuk churn dengan meningkatkan loyalitas pelanggan melalui Customer Relationship Management (CRM) dan prediksi churn."
   ]
  },
  {
   "cell_type": "markdown",
   "metadata": {},
   "source": [
    "Prediksi churn bertujuan untuk memprediksikan peluang seorang pelanggan untuk churn sebelum pelanggan tersebut benar-benar churn sehingga dapat dilakukan upaya seperti pemberian diskon atau peningkatan kepuasan pelanggan untuk meminimalisir kemungkinan churn. Riset pemasaran menunjukkan bahwa rata-rata nilai pelanggan yang churn adalah sekitar 2,2% per bulan. Keadaan ini mendorong perusahaan telekomunikasi untuk menambah biaya pemasaran guna mendapatkan pelaggan baru. Dimana biaya tersebut lebih tinggi dibandingkan dengan mempertahankan pelanggan lama."
   ]
  },
  {
   "cell_type": "markdown",
   "metadata": {},
   "source": [
    "Klasifikasi merupakan salah satu bagian dari supervised machine learning yang paling sering digunakan untuk memprediksikan data kategori. Data churn merupakan data kategorik (binary) oleh sebab itu untuk memprediksikan churn digunakan algoritma machine learning klasifikasi."
   ]
  },
  {
   "cell_type": "markdown",
   "metadata": {},
   "source": [
    "Dataset yang digunakan adalah data sebuah perusahaan telekommunikasi. Penjelasan dari variabel-variabel tersebut adalah sebagai berikut:"
   ]
  },
  {
   "cell_type": "markdown",
   "metadata": {},
   "source": [
    "* __UpdatedAt__ : periode pengambilan data\n",
    "* __customerID__ : ID pelanggan\n",
    "* __gender__ : jenis kelamin (Male, Female)\n",
    "* __SeniorCitizen__ : pelanggan berusia lebih dari 60 thn / pensiunan (1,0)\n",
    "* __Partner__ : pelanggan memiliki pasangan (Yes, No)\n",
    "* __Dependents__ : pelanggan memiliki tanggungan (Yes, No)\n",
    "* __tenure__ : lamanya pelanggan berlangganan (month)\n",
    "* __PhoneService__ : pelanggan memakai layanan telepon (Yes, No)\n",
    "* __MultipleLines__ : pelanggan memakai layanan multiple lines (Yes, No, No phone service)\n",
    "* __InternetService__ : penyedia layanan internet pelanggan (DSL, Fiber optic, No)\n",
    "* __OnlineSecurity__ : pelanggan memakai layanan online security (Yes, No, No internet service)\n",
    "* __OnlineBackup__ : pelanggan memakai layanan online backup (Yes, No, No internet service)\n",
    "* __DeviceProtection__ : pelanggan memakai layanan device protection (Yes, No, No internet service)\n",
    "* __TechSupport__ : pelanggan memakai layanan tech support (Yes, No, No internet service)\n",
    "* __StreamingTV__ : pelanggan memakai layanan streaming TV (Yes, No, No internet service)\n",
    "* __StreamingMovies__ : pelanggan memakai layanan streamming movies (Yes, No, No internet service)\n",
    "* __Contract__ : kontrak pelanggan (Month-to-month, One year, Two year)\n",
    "* __PaperlessBilling__ : pelanggan menggunakan paperless billling (Yes, No)\n",
    "* __PaymentMethod__ : metode pembayaran (Electronic check, Mailed check, Bank transfer (automatic), Credit card (automatic))\n",
    "* __MonthlyCharges__ : tagihan bulanan\n",
    "* __TotalCharges__ : total tagihan\n",
    "* __Churn__ : berhenti berlangganan (Yes, No)"
   ]
  },
  {
   "cell_type": "markdown",
   "metadata": {},
   "source": [
    "instalasi library `pandas` untuk memanggil data csv dan membuat stuktur datanya menjadi `DataFrame` yang diberi nama `df`"
   ]
  },
  {
   "cell_type": "code",
   "execution_count": 1,
   "metadata": {},
   "outputs": [],
   "source": [
    "import pandas as pd"
   ]
  },
  {
   "cell_type": "code",
   "execution_count": 2,
   "metadata": {},
   "outputs": [],
   "source": [
    "df=pd.read_csv(\"telco.csv\")"
   ]
  },
  {
   "cell_type": "markdown",
   "metadata": {},
   "source": [
    "Fungsi `.shape` untuk mengetahui dimensi data"
   ]
  },
  {
   "cell_type": "code",
   "execution_count": 3,
   "metadata": {},
   "outputs": [
    {
     "data": {
      "text/plain": [
       "(7113, 22)"
      ]
     },
     "execution_count": 3,
     "metadata": {},
     "output_type": "execute_result"
    }
   ],
   "source": [
    "df.shape"
   ]
  },
  {
   "cell_type": "markdown",
   "metadata": {},
   "source": [
    "Fungsi `.head` untuk melihat 5 data pertama dan `.tail` untuk melihat 5 data terakhir"
   ]
  },
  {
   "cell_type": "code",
   "execution_count": 4,
   "metadata": {},
   "outputs": [
    {
     "data": {
      "text/html": [
       "<div>\n",
       "<style scoped>\n",
       "    .dataframe tbody tr th:only-of-type {\n",
       "        vertical-align: middle;\n",
       "    }\n",
       "\n",
       "    .dataframe tbody tr th {\n",
       "        vertical-align: top;\n",
       "    }\n",
       "\n",
       "    .dataframe thead th {\n",
       "        text-align: right;\n",
       "    }\n",
       "</style>\n",
       "<table border=\"1\" class=\"dataframe\">\n",
       "  <thead>\n",
       "    <tr style=\"text-align: right;\">\n",
       "      <th></th>\n",
       "      <th>UpdatedAt</th>\n",
       "      <th>customerID</th>\n",
       "      <th>gender</th>\n",
       "      <th>SeniorCitizen</th>\n",
       "      <th>Partner</th>\n",
       "      <th>Dependents</th>\n",
       "      <th>tenure</th>\n",
       "      <th>PhoneService</th>\n",
       "      <th>MultipleLines</th>\n",
       "      <th>InternetService</th>\n",
       "      <th>...</th>\n",
       "      <th>DeviceProtection</th>\n",
       "      <th>TechSupport</th>\n",
       "      <th>StreamingTV</th>\n",
       "      <th>StreamingMovies</th>\n",
       "      <th>Contract</th>\n",
       "      <th>PaperlessBilling</th>\n",
       "      <th>PaymentMethod</th>\n",
       "      <th>MonthlyCharges</th>\n",
       "      <th>TotalCharges</th>\n",
       "      <th>Churn</th>\n",
       "    </tr>\n",
       "  </thead>\n",
       "  <tbody>\n",
       "    <tr>\n",
       "      <th>0</th>\n",
       "      <td>202006</td>\n",
       "      <td>45759018157</td>\n",
       "      <td>Female</td>\n",
       "      <td>0</td>\n",
       "      <td>Yes</td>\n",
       "      <td>No</td>\n",
       "      <td>1.0</td>\n",
       "      <td>No</td>\n",
       "      <td>No phone service</td>\n",
       "      <td>DSL</td>\n",
       "      <td>...</td>\n",
       "      <td>No</td>\n",
       "      <td>No</td>\n",
       "      <td>No</td>\n",
       "      <td>No</td>\n",
       "      <td>Month-to-month</td>\n",
       "      <td>Yes</td>\n",
       "      <td>Electronic check</td>\n",
       "      <td>29.85</td>\n",
       "      <td>29.85</td>\n",
       "      <td>No</td>\n",
       "    </tr>\n",
       "    <tr>\n",
       "      <th>1</th>\n",
       "      <td>202006</td>\n",
       "      <td>45557574145</td>\n",
       "      <td>Male</td>\n",
       "      <td>0</td>\n",
       "      <td>No</td>\n",
       "      <td>No</td>\n",
       "      <td>34.0</td>\n",
       "      <td>Yes</td>\n",
       "      <td>No</td>\n",
       "      <td>DSL</td>\n",
       "      <td>...</td>\n",
       "      <td>Yes</td>\n",
       "      <td>No</td>\n",
       "      <td>No</td>\n",
       "      <td>No</td>\n",
       "      <td>One year</td>\n",
       "      <td>No</td>\n",
       "      <td>Mailed check</td>\n",
       "      <td>56.95</td>\n",
       "      <td>1889.50</td>\n",
       "      <td>No</td>\n",
       "    </tr>\n",
       "    <tr>\n",
       "      <th>2</th>\n",
       "      <td>202006</td>\n",
       "      <td>45366876421</td>\n",
       "      <td>Male</td>\n",
       "      <td>0</td>\n",
       "      <td>No</td>\n",
       "      <td>No</td>\n",
       "      <td>2.0</td>\n",
       "      <td>Yes</td>\n",
       "      <td>No</td>\n",
       "      <td>DSL</td>\n",
       "      <td>...</td>\n",
       "      <td>No</td>\n",
       "      <td>No</td>\n",
       "      <td>No</td>\n",
       "      <td>No</td>\n",
       "      <td>Month-to-month</td>\n",
       "      <td>Yes</td>\n",
       "      <td>Mailed check</td>\n",
       "      <td>53.85</td>\n",
       "      <td>108.15</td>\n",
       "      <td>Yes</td>\n",
       "    </tr>\n",
       "    <tr>\n",
       "      <th>3</th>\n",
       "      <td>202006</td>\n",
       "      <td>45779536532</td>\n",
       "      <td>Male</td>\n",
       "      <td>0</td>\n",
       "      <td>No</td>\n",
       "      <td>No</td>\n",
       "      <td>45.0</td>\n",
       "      <td>No</td>\n",
       "      <td>No phone service</td>\n",
       "      <td>DSL</td>\n",
       "      <td>...</td>\n",
       "      <td>Yes</td>\n",
       "      <td>Yes</td>\n",
       "      <td>No</td>\n",
       "      <td>No</td>\n",
       "      <td>One year</td>\n",
       "      <td>No</td>\n",
       "      <td>Bank transfer (automatic)</td>\n",
       "      <td>42.30</td>\n",
       "      <td>1840.75</td>\n",
       "      <td>No</td>\n",
       "    </tr>\n",
       "    <tr>\n",
       "      <th>4</th>\n",
       "      <td>202006</td>\n",
       "      <td>45923787906</td>\n",
       "      <td>Female</td>\n",
       "      <td>0</td>\n",
       "      <td>No</td>\n",
       "      <td>No</td>\n",
       "      <td>2.0</td>\n",
       "      <td>Yes</td>\n",
       "      <td>No</td>\n",
       "      <td>Fiber optic</td>\n",
       "      <td>...</td>\n",
       "      <td>No</td>\n",
       "      <td>No</td>\n",
       "      <td>No</td>\n",
       "      <td>No</td>\n",
       "      <td>Month-to-month</td>\n",
       "      <td>Yes</td>\n",
       "      <td>Electronic check</td>\n",
       "      <td>70.70</td>\n",
       "      <td>151.65</td>\n",
       "      <td>Yes</td>\n",
       "    </tr>\n",
       "  </tbody>\n",
       "</table>\n",
       "<p>5 rows × 22 columns</p>\n",
       "</div>"
      ],
      "text/plain": [
       "   UpdatedAt   customerID  gender  SeniorCitizen Partner Dependents  tenure  \\\n",
       "0     202006  45759018157  Female              0     Yes         No     1.0   \n",
       "1     202006  45557574145    Male              0      No         No    34.0   \n",
       "2     202006  45366876421    Male              0      No         No     2.0   \n",
       "3     202006  45779536532    Male              0      No         No    45.0   \n",
       "4     202006  45923787906  Female              0      No         No     2.0   \n",
       "\n",
       "  PhoneService     MultipleLines InternetService  ... DeviceProtection  \\\n",
       "0           No  No phone service             DSL  ...               No   \n",
       "1          Yes                No             DSL  ...              Yes   \n",
       "2          Yes                No             DSL  ...               No   \n",
       "3           No  No phone service             DSL  ...              Yes   \n",
       "4          Yes                No     Fiber optic  ...               No   \n",
       "\n",
       "  TechSupport StreamingTV StreamingMovies        Contract PaperlessBilling  \\\n",
       "0          No          No              No  Month-to-month              Yes   \n",
       "1          No          No              No        One year               No   \n",
       "2          No          No              No  Month-to-month              Yes   \n",
       "3         Yes          No              No        One year               No   \n",
       "4          No          No              No  Month-to-month              Yes   \n",
       "\n",
       "               PaymentMethod MonthlyCharges TotalCharges  Churn  \n",
       "0           Electronic check          29.85        29.85     No  \n",
       "1               Mailed check          56.95      1889.50     No  \n",
       "2               Mailed check          53.85       108.15    Yes  \n",
       "3  Bank transfer (automatic)          42.30      1840.75     No  \n",
       "4           Electronic check          70.70       151.65    Yes  \n",
       "\n",
       "[5 rows x 22 columns]"
      ]
     },
     "execution_count": 4,
     "metadata": {},
     "output_type": "execute_result"
    }
   ],
   "source": [
    "df.head()"
   ]
  },
  {
   "cell_type": "code",
   "execution_count": 5,
   "metadata": {},
   "outputs": [
    {
     "data": {
      "text/html": [
       "<div>\n",
       "<style scoped>\n",
       "    .dataframe tbody tr th:only-of-type {\n",
       "        vertical-align: middle;\n",
       "    }\n",
       "\n",
       "    .dataframe tbody tr th {\n",
       "        vertical-align: top;\n",
       "    }\n",
       "\n",
       "    .dataframe thead th {\n",
       "        text-align: right;\n",
       "    }\n",
       "</style>\n",
       "<table border=\"1\" class=\"dataframe\">\n",
       "  <thead>\n",
       "    <tr style=\"text-align: right;\">\n",
       "      <th></th>\n",
       "      <th>UpdatedAt</th>\n",
       "      <th>customerID</th>\n",
       "      <th>gender</th>\n",
       "      <th>SeniorCitizen</th>\n",
       "      <th>Partner</th>\n",
       "      <th>Dependents</th>\n",
       "      <th>tenure</th>\n",
       "      <th>PhoneService</th>\n",
       "      <th>MultipleLines</th>\n",
       "      <th>InternetService</th>\n",
       "      <th>...</th>\n",
       "      <th>DeviceProtection</th>\n",
       "      <th>TechSupport</th>\n",
       "      <th>StreamingTV</th>\n",
       "      <th>StreamingMovies</th>\n",
       "      <th>Contract</th>\n",
       "      <th>PaperlessBilling</th>\n",
       "      <th>PaymentMethod</th>\n",
       "      <th>MonthlyCharges</th>\n",
       "      <th>TotalCharges</th>\n",
       "      <th>Churn</th>\n",
       "    </tr>\n",
       "  </thead>\n",
       "  <tbody>\n",
       "    <tr>\n",
       "      <th>7108</th>\n",
       "      <td>202006</td>\n",
       "      <td>45117219093</td>\n",
       "      <td>Male</td>\n",
       "      <td>0</td>\n",
       "      <td>Yes</td>\n",
       "      <td>Yes</td>\n",
       "      <td>53.0</td>\n",
       "      <td>Yes</td>\n",
       "      <td>Yes</td>\n",
       "      <td>DSL</td>\n",
       "      <td>...</td>\n",
       "      <td>No</td>\n",
       "      <td>No</td>\n",
       "      <td>No</td>\n",
       "      <td>Yes</td>\n",
       "      <td>Two year</td>\n",
       "      <td>No</td>\n",
       "      <td>Bank transfer (automatic)</td>\n",
       "      <td>69.70</td>\n",
       "      <td>3686.05</td>\n",
       "      <td>NaN</td>\n",
       "    </tr>\n",
       "    <tr>\n",
       "      <th>7109</th>\n",
       "      <td>202006</td>\n",
       "      <td>45564915800</td>\n",
       "      <td>Female</td>\n",
       "      <td>0</td>\n",
       "      <td>No</td>\n",
       "      <td>No</td>\n",
       "      <td>12.0</td>\n",
       "      <td>Yes</td>\n",
       "      <td>No</td>\n",
       "      <td>Fiber optic</td>\n",
       "      <td>...</td>\n",
       "      <td>Yes</td>\n",
       "      <td>No</td>\n",
       "      <td>Yes</td>\n",
       "      <td>Yes</td>\n",
       "      <td>One year</td>\n",
       "      <td>No</td>\n",
       "      <td>Mailed check</td>\n",
       "      <td>95.50</td>\n",
       "      <td>1115.15</td>\n",
       "      <td>NaN</td>\n",
       "    </tr>\n",
       "    <tr>\n",
       "      <th>7110</th>\n",
       "      <td>202006</td>\n",
       "      <td>45655964195</td>\n",
       "      <td>Male</td>\n",
       "      <td>0</td>\n",
       "      <td>No</td>\n",
       "      <td>No</td>\n",
       "      <td>26.0</td>\n",
       "      <td>Yes</td>\n",
       "      <td>No</td>\n",
       "      <td>Fiber optic</td>\n",
       "      <td>...</td>\n",
       "      <td>Yes</td>\n",
       "      <td>Yes</td>\n",
       "      <td>Yes</td>\n",
       "      <td>Yes</td>\n",
       "      <td>Month-to-month</td>\n",
       "      <td>Yes</td>\n",
       "      <td>Electronic check</td>\n",
       "      <td>98.65</td>\n",
       "      <td>2537.00</td>\n",
       "      <td>NaN</td>\n",
       "    </tr>\n",
       "    <tr>\n",
       "      <th>7111</th>\n",
       "      <td>202006</td>\n",
       "      <td>45899251814</td>\n",
       "      <td>Male</td>\n",
       "      <td>0</td>\n",
       "      <td>No</td>\n",
       "      <td>No</td>\n",
       "      <td>21.0</td>\n",
       "      <td>Yes</td>\n",
       "      <td>No</td>\n",
       "      <td>DSL</td>\n",
       "      <td>...</td>\n",
       "      <td>Yes</td>\n",
       "      <td>No</td>\n",
       "      <td>No</td>\n",
       "      <td>Yes</td>\n",
       "      <td>Month-to-month</td>\n",
       "      <td>No</td>\n",
       "      <td>Mailed check</td>\n",
       "      <td>61.65</td>\n",
       "      <td>1393.60</td>\n",
       "      <td>NaN</td>\n",
       "    </tr>\n",
       "    <tr>\n",
       "      <th>7112</th>\n",
       "      <td>202006</td>\n",
       "      <td>45427332508</td>\n",
       "      <td>Female</td>\n",
       "      <td>0</td>\n",
       "      <td>No</td>\n",
       "      <td>Yes</td>\n",
       "      <td>1.0</td>\n",
       "      <td>Yes</td>\n",
       "      <td>No</td>\n",
       "      <td>Fiber optic</td>\n",
       "      <td>...</td>\n",
       "      <td>No</td>\n",
       "      <td>No</td>\n",
       "      <td>Yes</td>\n",
       "      <td>Yes</td>\n",
       "      <td>Month-to-month</td>\n",
       "      <td>Yes</td>\n",
       "      <td>Electronic check</td>\n",
       "      <td>89.35</td>\n",
       "      <td>89.35</td>\n",
       "      <td>NaN</td>\n",
       "    </tr>\n",
       "  </tbody>\n",
       "</table>\n",
       "<p>5 rows × 22 columns</p>\n",
       "</div>"
      ],
      "text/plain": [
       "      UpdatedAt   customerID  gender  SeniorCitizen Partner Dependents  \\\n",
       "7108     202006  45117219093    Male              0     Yes        Yes   \n",
       "7109     202006  45564915800  Female              0      No         No   \n",
       "7110     202006  45655964195    Male              0      No         No   \n",
       "7111     202006  45899251814    Male              0      No         No   \n",
       "7112     202006  45427332508  Female              0      No        Yes   \n",
       "\n",
       "      tenure PhoneService MultipleLines InternetService  ... DeviceProtection  \\\n",
       "7108    53.0          Yes           Yes             DSL  ...               No   \n",
       "7109    12.0          Yes            No     Fiber optic  ...              Yes   \n",
       "7110    26.0          Yes            No     Fiber optic  ...              Yes   \n",
       "7111    21.0          Yes            No             DSL  ...              Yes   \n",
       "7112     1.0          Yes            No     Fiber optic  ...               No   \n",
       "\n",
       "     TechSupport StreamingTV StreamingMovies        Contract PaperlessBilling  \\\n",
       "7108          No          No             Yes        Two year               No   \n",
       "7109          No         Yes             Yes        One year               No   \n",
       "7110         Yes         Yes             Yes  Month-to-month              Yes   \n",
       "7111          No          No             Yes  Month-to-month               No   \n",
       "7112          No         Yes             Yes  Month-to-month              Yes   \n",
       "\n",
       "                  PaymentMethod MonthlyCharges TotalCharges  Churn  \n",
       "7108  Bank transfer (automatic)          69.70      3686.05    NaN  \n",
       "7109               Mailed check          95.50      1115.15    NaN  \n",
       "7110           Electronic check          98.65      2537.00    NaN  \n",
       "7111               Mailed check          61.65      1393.60    NaN  \n",
       "7112           Electronic check          89.35        89.35    NaN  \n",
       "\n",
       "[5 rows x 22 columns]"
      ]
     },
     "execution_count": 5,
     "metadata": {},
     "output_type": "execute_result"
    }
   ],
   "source": [
    "df.tail()"
   ]
  },
  {
   "cell_type": "markdown",
   "metadata": {},
   "source": [
    "Fungsi `.columns` untuk mengetahu nama kolom atau variabel dataset"
   ]
  },
  {
   "cell_type": "code",
   "execution_count": 6,
   "metadata": {},
   "outputs": [
    {
     "data": {
      "text/plain": [
       "Index(['UpdatedAt', 'customerID', 'gender', 'SeniorCitizen', 'Partner',\n",
       "       'Dependents', 'tenure', 'PhoneService', 'MultipleLines',\n",
       "       'InternetService', 'OnlineSecurity', 'OnlineBackup', 'DeviceProtection',\n",
       "       'TechSupport', 'StreamingTV', 'StreamingMovies', 'Contract',\n",
       "       'PaperlessBilling', 'PaymentMethod', 'MonthlyCharges', 'TotalCharges',\n",
       "       'Churn'],\n",
       "      dtype='object')"
      ]
     },
     "execution_count": 6,
     "metadata": {},
     "output_type": "execute_result"
    }
   ],
   "source": [
    "df.columns"
   ]
  },
  {
   "cell_type": "markdown",
   "metadata": {},
   "source": [
    "## Data Cleansing"
   ]
  },
  {
   "cell_type": "markdown",
   "metadata": {},
   "source": [
    "### Filtering Data "
   ]
  },
  {
   "cell_type": "markdown",
   "metadata": {},
   "source": [
    "Pada tahap ini dilakukan penyaringan data berdasarkan variabel `customerID` yang valid"
   ]
  },
  {
   "cell_type": "markdown",
   "metadata": {},
   "source": [
    "#### Filter customerID berdasarkan format spesifik"
   ]
  },
  {
   "cell_type": "markdown",
   "metadata": {},
   "source": [
    "1. panjang ID harus 11-12 karakter\n",
    "2. harus diawali dengan 45\n",
    "3. hanya terdiri dari angka"
   ]
  },
  {
   "cell_type": "code",
   "execution_count": 7,
   "metadata": {},
   "outputs": [
    {
     "data": {
      "text/plain": [
       "True     7006\n",
       "False     107\n",
       "Name: validID, dtype: int64"
      ]
     },
     "execution_count": 7,
     "metadata": {},
     "output_type": "execute_result"
    }
   ],
   "source": [
    "#membuat kolom baru dengan tipe data boolean untuk validID\n",
    "df['validID']=df['customerID'].astype(str).str.match(r'(45\\d{9,10})')\n",
    "df['validID'].value_counts()"
   ]
  },
  {
   "cell_type": "code",
   "execution_count": 8,
   "metadata": {},
   "outputs": [
    {
     "data": {
      "text/plain": [
       "7006"
      ]
     },
     "execution_count": 8,
     "metadata": {},
     "output_type": "execute_result"
    }
   ],
   "source": [
    "#memperbarui dataframe berdasarkan customerID valid\n",
    "df = (df[df['validID']==True]).drop('validID', axis = 1)\n",
    "df['customerID'].count()"
   ]
  },
  {
   "cell_type": "markdown",
   "metadata": {},
   "source": [
    "#### Filter customerID yang duplikat "
   ]
  },
  {
   "cell_type": "code",
   "execution_count": 9,
   "metadata": {},
   "outputs": [
    {
     "data": {
      "text/plain": [
       "6993"
      ]
     },
     "execution_count": 9,
     "metadata": {},
     "output_type": "execute_result"
    }
   ],
   "source": [
    "#hapus baris dengan variabel duplikat\n",
    "df=df.drop_duplicates()\n",
    "#urutkan berdasarkan UpdatedAt dan hapus baris duplikat customerID\n",
    "df=df.sort_values('UpdatedAt', ascending=False).drop_duplicates('customerID')\n",
    "df['customerID'].count()"
   ]
  },
  {
   "cell_type": "markdown",
   "metadata": {},
   "source": [
    "Total `customerID` yang valid adalah 6993 dari total keseluruhan 7113. Jadi hanya 6993 data tersebut yang akan digunakan untuk tahap selanjutnya"
   ]
  },
  {
   "cell_type": "markdown",
   "metadata": {},
   "source": [
    "### Handling Missing Value"
   ]
  },
  {
   "cell_type": "markdown",
   "metadata": {},
   "source": [
    "#### Mendeteksi missing value"
   ]
  },
  {
   "cell_type": "code",
   "execution_count": 10,
   "metadata": {},
   "outputs": [
    {
     "data": {
      "text/plain": [
       "tenure              99\n",
       "Churn               43\n",
       "MonthlyCharges      26\n",
       "TotalCharges        15\n",
       "InternetService      0\n",
       "customerID           0\n",
       "gender               0\n",
       "SeniorCitizen        0\n",
       "Partner              0\n",
       "Dependents           0\n",
       "PhoneService         0\n",
       "MultipleLines        0\n",
       "OnlineSecurity       0\n",
       "OnlineBackup         0\n",
       "DeviceProtection     0\n",
       "TechSupport          0\n",
       "StreamingTV          0\n",
       "StreamingMovies      0\n",
       "Contract             0\n",
       "PaperlessBilling     0\n",
       "PaymentMethod        0\n",
       "UpdatedAt            0\n",
       "dtype: int64"
      ]
     },
     "execution_count": 10,
     "metadata": {},
     "output_type": "execute_result"
    }
   ],
   "source": [
    "df.isnull().sum().sort_values(ascending=False)"
   ]
  },
  {
   "cell_type": "markdown",
   "metadata": {},
   "source": [
    "#### Mengatasi missing value dengan menghapusnya"
   ]
  },
  {
   "cell_type": "code",
   "execution_count": 11,
   "metadata": {},
   "outputs": [],
   "source": [
    "#menghapus baris dengan missing value di variabel Churn\n",
    "df.dropna(subset=['Churn'], inplace=True)"
   ]
  },
  {
   "cell_type": "markdown",
   "metadata": {},
   "source": [
    "#### Mengatasi missing value dengan mengisinya"
   ]
  },
  {
   "cell_type": "code",
   "execution_count": 12,
   "metadata": {},
   "outputs": [],
   "source": [
    "#mengatasi missing value dengan nilai tertentu yaitu 12 pada variabel tenure\n",
    "df['tenure'].fillna(12, inplace=True)"
   ]
  },
  {
   "cell_type": "code",
   "execution_count": 13,
   "metadata": {},
   "outputs": [],
   "source": [
    "#mengatasi missing value dengan median pada variabel MonthlyCharges dan TotalCharges\n",
    "columns = ['MonthlyCharges','TotalCharges']\n",
    "for i in columns:\n",
    "    median = df[i].median()\n",
    "    df[i].fillna(median, inplace=True)"
   ]
  },
  {
   "cell_type": "code",
   "execution_count": 14,
   "metadata": {},
   "outputs": [
    {
     "data": {
      "text/plain": [
       "Churn               0\n",
       "TotalCharges        0\n",
       "customerID          0\n",
       "gender              0\n",
       "SeniorCitizen       0\n",
       "Partner             0\n",
       "Dependents          0\n",
       "tenure              0\n",
       "PhoneService        0\n",
       "MultipleLines       0\n",
       "InternetService     0\n",
       "OnlineSecurity      0\n",
       "OnlineBackup        0\n",
       "DeviceProtection    0\n",
       "TechSupport         0\n",
       "StreamingTV         0\n",
       "StreamingMovies     0\n",
       "Contract            0\n",
       "PaperlessBilling    0\n",
       "PaymentMethod       0\n",
       "MonthlyCharges      0\n",
       "UpdatedAt           0\n",
       "dtype: int64"
      ]
     },
     "execution_count": 14,
     "metadata": {},
     "output_type": "execute_result"
    }
   ],
   "source": [
    "#memeriksa kembali data\n",
    "df.isnull().sum().sort_values(ascending=False)"
   ]
  },
  {
   "cell_type": "code",
   "execution_count": 15,
   "metadata": {},
   "outputs": [
    {
     "data": {
      "text/plain": [
       "(6950, 22)"
      ]
     },
     "execution_count": 15,
     "metadata": {},
     "output_type": "execute_result"
    }
   ],
   "source": [
    "df.shape"
   ]
  },
  {
   "cell_type": "markdown",
   "metadata": {},
   "source": [
    "## Handling Outliers "
   ]
  },
  {
   "cell_type": "markdown",
   "metadata": {},
   "source": [
    "Ringkasan statistik untuk variabel dengan tipe data numerik yaitu `tenure` `MonthlyCharges` dan `TotalCharges`"
   ]
  },
  {
   "cell_type": "code",
   "execution_count": 16,
   "metadata": {},
   "outputs": [
    {
     "data": {
      "text/html": [
       "<div>\n",
       "<style scoped>\n",
       "    .dataframe tbody tr th:only-of-type {\n",
       "        vertical-align: middle;\n",
       "    }\n",
       "\n",
       "    .dataframe tbody tr th {\n",
       "        vertical-align: top;\n",
       "    }\n",
       "\n",
       "    .dataframe thead th {\n",
       "        text-align: right;\n",
       "    }\n",
       "</style>\n",
       "<table border=\"1\" class=\"dataframe\">\n",
       "  <thead>\n",
       "    <tr style=\"text-align: right;\">\n",
       "      <th></th>\n",
       "      <th>tenure</th>\n",
       "      <th>MonthlyCharges</th>\n",
       "      <th>TotalCharges</th>\n",
       "    </tr>\n",
       "  </thead>\n",
       "  <tbody>\n",
       "    <tr>\n",
       "      <th>count</th>\n",
       "      <td>6950.000000</td>\n",
       "      <td>6950.000000</td>\n",
       "      <td>6950.000000</td>\n",
       "    </tr>\n",
       "    <tr>\n",
       "      <th>mean</th>\n",
       "      <td>32.491511</td>\n",
       "      <td>65.783741</td>\n",
       "      <td>2305.083460</td>\n",
       "    </tr>\n",
       "    <tr>\n",
       "      <th>std</th>\n",
       "      <td>25.177039</td>\n",
       "      <td>50.457871</td>\n",
       "      <td>2578.651143</td>\n",
       "    </tr>\n",
       "    <tr>\n",
       "      <th>min</th>\n",
       "      <td>0.000000</td>\n",
       "      <td>0.000000</td>\n",
       "      <td>19.000000</td>\n",
       "    </tr>\n",
       "    <tr>\n",
       "      <th>25%</th>\n",
       "      <td>9.000000</td>\n",
       "      <td>36.462500</td>\n",
       "      <td>406.975000</td>\n",
       "    </tr>\n",
       "    <tr>\n",
       "      <th>50%</th>\n",
       "      <td>29.000000</td>\n",
       "      <td>70.450000</td>\n",
       "      <td>1400.850000</td>\n",
       "    </tr>\n",
       "    <tr>\n",
       "      <th>75%</th>\n",
       "      <td>55.000000</td>\n",
       "      <td>89.850000</td>\n",
       "      <td>3799.837500</td>\n",
       "    </tr>\n",
       "    <tr>\n",
       "      <th>max</th>\n",
       "      <td>500.000000</td>\n",
       "      <td>2311.000000</td>\n",
       "      <td>80000.000000</td>\n",
       "    </tr>\n",
       "  </tbody>\n",
       "</table>\n",
       "</div>"
      ],
      "text/plain": [
       "            tenure  MonthlyCharges  TotalCharges\n",
       "count  6950.000000     6950.000000   6950.000000\n",
       "mean     32.491511       65.783741   2305.083460\n",
       "std      25.177039       50.457871   2578.651143\n",
       "min       0.000000        0.000000     19.000000\n",
       "25%       9.000000       36.462500    406.975000\n",
       "50%      29.000000       70.450000   1400.850000\n",
       "75%      55.000000       89.850000   3799.837500\n",
       "max     500.000000     2311.000000  80000.000000"
      ]
     },
     "execution_count": 16,
     "metadata": {},
     "output_type": "execute_result"
    }
   ],
   "source": [
    "df[['tenure','MonthlyCharges','TotalCharges']].describe()"
   ]
  },
  {
   "cell_type": "markdown",
   "metadata": {},
   "source": [
    "#### Mendeteksi outliers dengan boxplot"
   ]
  },
  {
   "cell_type": "markdown",
   "metadata": {},
   "source": [
    "Library yang digunakan untuk membuat boxplot adalah `matplotlib` dan `seaborn`"
   ]
  },
  {
   "cell_type": "code",
   "execution_count": 17,
   "metadata": {},
   "outputs": [],
   "source": [
    "import matplotlib.pyplot as plt\n",
    "import seaborn as sns"
   ]
  },
  {
   "cell_type": "code",
   "execution_count": 18,
   "metadata": {},
   "outputs": [
    {
     "data": {
      "image/png": "[encoded data removed]",
      "text/plain": [
       "<Figure size 576x432 with 3 Axes>"
      ]
     },
     "metadata": {},
     "output_type": "display_data"
    }
   ],
   "source": [
    "sns.set()\n",
    "features = ['tenure','MonthlyCharges','TotalCharges']\n",
    "fig, ax = plt.subplots(figsize=(8,6))\n",
    "plt.subplots_adjust(right=2, top=2)\n",
    "for i, n in enumerate(features,1):\n",
    "    plt.subplot(2,2,i)\n",
    "    sns.boxplot(x=df[n])\n",
    "    plt.xlabel('{}'.format(n), labelpad=10, size=15)\n",
    "    plt.tick_params(axis='x', labelsize=15, size=8)\n",
    "    plt.tick_params(axis='y', labelsize=15, size=8)\n",
    "    plt.title('Boxplot {} '.format(n), y=1, size=15)\n",
    "plt.show()"
   ]
  },
  {
   "cell_type": "markdown",
   "metadata": {},
   "source": [
    "#### Mendeteksi outliers dengan Interquatile Range"
   ]
  },
  {
   "cell_type": "markdown",
   "metadata": {},
   "source": [
    "Fungsi yang digunakan adalah `quantile()` untuk menghitung kuartil 1 dan 3"
   ]
  },
  {
   "cell_type": "code",
   "execution_count": 19,
   "metadata": {},
   "outputs": [],
   "source": [
    "def detect_outliers(df, x):\n",
    "    Q1 = df[x].quantile(0.25)\n",
    "    Q3 = df[x].quantile(0.75)\n",
    "    IQR = Q3-Q1\n",
    "    return df[(df[x] < Q1-1.5*IQR) | (df[x] > Q3+1.5*IQR)]"
   ]
  },
  {
   "cell_type": "code",
   "execution_count": 21,
   "metadata": {},
   "outputs": [
    {
     "data": {
      "text/html": [
       "<div>\n",
       "<style scoped>\n",
       "    .dataframe tbody tr th:only-of-type {\n",
       "        vertical-align: middle;\n",
       "    }\n",
       "\n",
       "    .dataframe tbody tr th {\n",
       "        vertical-align: top;\n",
       "    }\n",
       "\n",
       "    .dataframe thead th {\n",
       "        text-align: right;\n",
       "    }\n",
       "</style>\n",
       "<table border=\"1\" class=\"dataframe\">\n",
       "  <thead>\n",
       "    <tr style=\"text-align: right;\">\n",
       "      <th></th>\n",
       "      <th>UpdatedAt</th>\n",
       "      <th>customerID</th>\n",
       "      <th>gender</th>\n",
       "      <th>SeniorCitizen</th>\n",
       "      <th>Partner</th>\n",
       "      <th>Dependents</th>\n",
       "      <th>tenure</th>\n",
       "      <th>PhoneService</th>\n",
       "      <th>MultipleLines</th>\n",
       "      <th>InternetService</th>\n",
       "      <th>...</th>\n",
       "      <th>DeviceProtection</th>\n",
       "      <th>TechSupport</th>\n",
       "      <th>StreamingTV</th>\n",
       "      <th>StreamingMovies</th>\n",
       "      <th>Contract</th>\n",
       "      <th>PaperlessBilling</th>\n",
       "      <th>PaymentMethod</th>\n",
       "      <th>MonthlyCharges</th>\n",
       "      <th>TotalCharges</th>\n",
       "      <th>Churn</th>\n",
       "    </tr>\n",
       "  </thead>\n",
       "  <tbody>\n",
       "    <tr>\n",
       "      <th>4586</th>\n",
       "      <td>202006</td>\n",
       "      <td>45756943547</td>\n",
       "      <td>Female</td>\n",
       "      <td>0</td>\n",
       "      <td>Yes</td>\n",
       "      <td>Yes</td>\n",
       "      <td>72.0</td>\n",
       "      <td>Yes</td>\n",
       "      <td>Yes</td>\n",
       "      <td>Fiber optic</td>\n",
       "      <td>...</td>\n",
       "      <td>Yes</td>\n",
       "      <td>Yes</td>\n",
       "      <td>Yes</td>\n",
       "      <td>Yes</td>\n",
       "      <td>Two year</td>\n",
       "      <td>Yes</td>\n",
       "      <td>Bank transfer (automatic)</td>\n",
       "      <td>2311.0</td>\n",
       "      <td>70000.00</td>\n",
       "      <td>No</td>\n",
       "    </tr>\n",
       "    <tr>\n",
       "      <th>3894</th>\n",
       "      <td>202006</td>\n",
       "      <td>45598913663</td>\n",
       "      <td>Female</td>\n",
       "      <td>0</td>\n",
       "      <td>Yes</td>\n",
       "      <td>No</td>\n",
       "      <td>68.0</td>\n",
       "      <td>Yes</td>\n",
       "      <td>Yes</td>\n",
       "      <td>Fiber optic</td>\n",
       "      <td>...</td>\n",
       "      <td>Yes</td>\n",
       "      <td>Yes</td>\n",
       "      <td>Yes</td>\n",
       "      <td>Yes</td>\n",
       "      <td>Two year</td>\n",
       "      <td>No</td>\n",
       "      <td>Mailed check</td>\n",
       "      <td>1700.0</td>\n",
       "      <td>7990.05</td>\n",
       "      <td>No</td>\n",
       "    </tr>\n",
       "    <tr>\n",
       "      <th>2115</th>\n",
       "      <td>202006</td>\n",
       "      <td>45898486532</td>\n",
       "      <td>Female</td>\n",
       "      <td>0</td>\n",
       "      <td>No</td>\n",
       "      <td>No</td>\n",
       "      <td>71.0</td>\n",
       "      <td>Yes</td>\n",
       "      <td>Yes</td>\n",
       "      <td>Fiber optic</td>\n",
       "      <td>...</td>\n",
       "      <td>Yes</td>\n",
       "      <td>Yes</td>\n",
       "      <td>Yes</td>\n",
       "      <td>Yes</td>\n",
       "      <td>Two year</td>\n",
       "      <td>Yes</td>\n",
       "      <td>Electronic check</td>\n",
       "      <td>2000.0</td>\n",
       "      <td>8477.60</td>\n",
       "      <td>No</td>\n",
       "    </tr>\n",
       "  </tbody>\n",
       "</table>\n",
       "<p>3 rows × 22 columns</p>\n",
       "</div>"
      ],
      "text/plain": [
       "      UpdatedAt   customerID  gender  SeniorCitizen Partner Dependents  \\\n",
       "4586     202006  45756943547  Female              0     Yes        Yes   \n",
       "3894     202006  45598913663  Female              0     Yes         No   \n",
       "2115     202006  45898486532  Female              0      No         No   \n",
       "\n",
       "      tenure PhoneService MultipleLines InternetService  ... DeviceProtection  \\\n",
       "4586    72.0          Yes           Yes     Fiber optic  ...              Yes   \n",
       "3894    68.0          Yes           Yes     Fiber optic  ...              Yes   \n",
       "2115    71.0          Yes           Yes     Fiber optic  ...              Yes   \n",
       "\n",
       "     TechSupport StreamingTV StreamingMovies  Contract PaperlessBilling  \\\n",
       "4586         Yes         Yes             Yes  Two year              Yes   \n",
       "3894         Yes         Yes             Yes  Two year               No   \n",
       "2115         Yes         Yes             Yes  Two year              Yes   \n",
       "\n",
       "                  PaymentMethod MonthlyCharges TotalCharges  Churn  \n",
       "4586  Bank transfer (automatic)         2311.0     70000.00     No  \n",
       "3894               Mailed check         1700.0      7990.05     No  \n",
       "2115           Electronic check         2000.0      8477.60     No  \n",
       "\n",
       "[3 rows x 22 columns]"
      ]
     },
     "execution_count": 21,
     "metadata": {},
     "output_type": "execute_result"
    }
   ],
   "source": [
    "#melihat outlier setiap variabel\n",
    "detect_outliers(df, 'MonthlyCharges')"
   ]
  },
  {
   "cell_type": "markdown",
   "metadata": {},
   "source": [
    "#### Mengatasi outliers "
   ]
  },
  {
   "cell_type": "markdown",
   "metadata": {},
   "source": [
    "Salah satu cara mengatasi outliers adalah dengan membuang outliers tersebut berdasarkan IQR"
   ]
  },
  {
   "cell_type": "code",
   "execution_count": 22,
   "metadata": {},
   "outputs": [],
   "source": [
    "q1 = df[['tenure','MonthlyCharges','TotalCharges']].quantile(0.25)\n",
    "q3 = df[['tenure','MonthlyCharges','TotalCharges']].quantile(0.75)\n",
    "iqr = q3 - q1\n",
    "df= df[~((df < (q1 - 1.5 * iqr)) |(df > (q3 + 1.5 * iqr))).any(axis=1)]"
   ]
  },
  {
   "cell_type": "code",
   "execution_count": 23,
   "metadata": {},
   "outputs": [
    {
     "data": {
      "text/plain": [
       "(6945, 22)"
      ]
     },
     "execution_count": 23,
     "metadata": {},
     "output_type": "execute_result"
    }
   ],
   "source": [
    "df.shape"
   ]
  },
  {
   "cell_type": "markdown",
   "metadata": {},
   "source": [
    "Sehingga diperoleh jumlah data yan dapat digunakan adalah **6945**"
   ]
  },
  {
   "cell_type": "markdown",
   "metadata": {},
   "source": [
    "### Standarisasi "
   ]
  },
  {
   "cell_type": "markdown",
   "metadata": {},
   "source": [
    "Standarisasi nilai dilakukan pada variabel kategorik untuk menyesuaikan nilai setiap variabel sehingga tidak ada perbedaan format "
   ]
  },
  {
   "cell_type": "code",
   "execution_count": 24,
   "metadata": {},
   "outputs": [
    {
     "name": "stdout",
     "output_type": "stream",
     "text": [
      "Nilai unik dari variabel gender,\n",
      "Male         3498\n",
      "Female       3427\n",
      "Wanita         14\n",
      "Laki-Laki       6\n",
      "Name: gender, dtype: int64\n",
      "\n",
      "\n",
      "Nilai unik dari variabel SeniorCitizen,\n",
      "0    5817\n",
      "1    1128\n",
      "Name: SeniorCitizen, dtype: int64\n",
      "\n",
      "\n",
      "Nilai unik dari variabel Partner,\n",
      "No     3590\n",
      "Yes    3355\n",
      "Name: Partner, dtype: int64\n",
      "\n",
      "\n",
      "Nilai unik dari variabel Dependents,\n",
      "No     4866\n",
      "Yes    2059\n",
      "Iya      20\n",
      "Name: Dependents, dtype: int64\n",
      "\n",
      "\n",
      "Nilai unik dari variabel PhoneService,\n",
      "Yes    6276\n",
      "No      669\n",
      "Name: PhoneService, dtype: int64\n",
      "\n",
      "\n",
      "Nilai unik dari variabel MultipleLines,\n",
      "No                  3346\n",
      "Yes                 2930\n",
      "No phone service     669\n",
      "Name: MultipleLines, dtype: int64\n",
      "\n",
      "\n",
      "Nilai unik dari variabel InternetService,\n",
      "Fiber optic    3052\n",
      "DSL            2388\n",
      "No             1505\n",
      "Name: InternetService, dtype: int64\n",
      "\n",
      "\n",
      "Nilai unik dari variabel OnlineSecurity,\n",
      "No                     3454\n",
      "Yes                    1986\n",
      "No internet service    1505\n",
      "Name: OnlineSecurity, dtype: int64\n",
      "\n",
      "\n",
      "Nilai unik dari variabel OnlineBackup,\n",
      "No                     3045\n",
      "Yes                    2395\n",
      "No internet service    1505\n",
      "Name: OnlineBackup, dtype: int64\n",
      "\n",
      "\n",
      "Nilai unik dari variabel DeviceProtection,\n",
      "No                     3054\n",
      "Yes                    2386\n",
      "No internet service    1505\n",
      "Name: DeviceProtection, dtype: int64\n",
      "\n",
      "\n",
      "Nilai unik dari variabel TechSupport,\n",
      "No                     3431\n",
      "Yes                    2009\n",
      "No internet service    1505\n",
      "Name: TechSupport, dtype: int64\n",
      "\n",
      "\n",
      "Nilai unik dari variabel StreamingTV,\n",
      "No                     2773\n",
      "Yes                    2667\n",
      "No internet service    1505\n",
      "Name: StreamingTV, dtype: int64\n",
      "\n",
      "\n",
      "Nilai unik dari variabel StreamingMovies,\n",
      "No                     2746\n",
      "Yes                    2694\n",
      "No internet service    1505\n",
      "Name: StreamingMovies, dtype: int64\n",
      "\n",
      "\n",
      "Nilai unik dari variabel Contract,\n",
      "Month-to-month    3823\n",
      "Two year          1666\n",
      "One year          1456\n",
      "Name: Contract, dtype: int64\n",
      "\n",
      "\n",
      "Nilai unik dari variabel PaperlessBilling,\n",
      "Yes    4110\n",
      "No     2835\n",
      "Name: PaperlessBilling, dtype: int64\n",
      "\n",
      "\n",
      "Nilai unik dari variabel PaymentMethod,\n",
      "Electronic check             2336\n",
      "Mailed check                 1593\n",
      "Bank transfer (automatic)    1516\n",
      "Credit card (automatic)      1500\n",
      "Name: PaymentMethod, dtype: int64\n",
      "\n",
      "\n",
      "Nilai unik dari variabel Churn,\n",
      "No       5110\n",
      "Yes      1826\n",
      "Churn       9\n",
      "Name: Churn, dtype: int64\n",
      "\n",
      "\n"
     ]
    }
   ],
   "source": [
    "#deteksi nilai yang tidak standar\n",
    "columns = ['gender','SeniorCitizen','Partner','Dependents','PhoneService','MultipleLines','InternetService','OnlineSecurity',\n",
    "           'OnlineBackup','DeviceProtection','TechSupport','StreamingTV','StreamingMovies','Contract','PaperlessBilling',\n",
    "           'PaymentMethod','Churn']\n",
    "\n",
    "for i in columns:\n",
    "    print('Nilai unik dari variabel {},' .format(i))\n",
    "    print(df[i].value_counts())\n",
    "    print('\\n')"
   ]
  },
  {
   "cell_type": "markdown",
   "metadata": {},
   "source": [
    "Berdasarkan hasil diatas diperoleh bahwa terdapat 3 variabel yang memiliki nilai tidak standar yaitu `gender` `Dependents` dan `Churn`"
   ]
  },
  {
   "cell_type": "code",
   "execution_count": 25,
   "metadata": {},
   "outputs": [],
   "source": [
    "#menggantikan nilai yang tidak standar\n",
    "df['gender'].replace({'Laki-Laki':'Male', 'Wanita':'Female'}, inplace=True)\n",
    "df['Dependents'].replace({'Iya':'Yes'}, inplace=True)\n",
    "df['Churn'].replace({'Churn':'Yes'}, inplace=True)"
   ]
  },
  {
   "cell_type": "code",
   "execution_count": 26,
   "metadata": {},
   "outputs": [
    {
     "name": "stdout",
     "output_type": "stream",
     "text": [
      "Nilai unik dari variabel gender setelah standarisasi,\n",
      "Male      3504\n",
      "Female    3441\n",
      "Name: gender, dtype: int64\n",
      "\n",
      "\n",
      "Nilai unik dari variabel Dependents setelah standarisasi,\n",
      "No     4866\n",
      "Yes    2079\n",
      "Name: Dependents, dtype: int64\n",
      "\n",
      "\n",
      "Nilai unik dari variabel Churn setelah standarisasi,\n",
      "No     5110\n",
      "Yes    1835\n",
      "Name: Churn, dtype: int64\n",
      "\n",
      "\n"
     ]
    }
   ],
   "source": [
    "#menampilkan nilai yang telah distandarisasi\n",
    "columns = ['gender','Dependents','Churn']\n",
    "for i in columns:\n",
    "    print('Nilai unik dari variabel {} setelah standarisasi,' .format(i))\n",
    "    print(df[i].value_counts())\n",
    "    print('\\n')"
   ]
  },
  {
   "cell_type": "markdown",
   "metadata": {},
   "source": [
    "## Analisis Data Eksploratif"
   ]
  },
  {
   "cell_type": "markdown",
   "metadata": {},
   "source": [
    "**Analisis  data eksploratif** berfungsi untuk memahami analisis apa yang cocok digunakan pada data. Dimulai dari distribusi frekuensi, korelasi, dll.\n",
    "\n",
    "Secara umum, ADE dapat dilakukan dengan berbagai cara, seperti:\n",
    "1. Analisis Univariat ( Satu Variabel)\n",
    "2. Analisis Bivariat (Dua variabel)\n",
    "3. Analisis Multivariat (Lebih dari 2 variabel)"
   ]
  },
  {
   "cell_type": "markdown",
   "metadata": {},
   "source": [
    "### Visualisasi Data Numerik"
   ]
  },
  {
   "cell_type": "markdown",
   "metadata": {},
   "source": [
    "Library yang digunakan untuk membuat chart adalah `matplotlib` dan `seaborn`"
   ]
  },
  {
   "cell_type": "code",
   "execution_count": 27,
   "metadata": {},
   "outputs": [
    {
     "data": {
      "image/png": "[encoded data removed]",
      "text/plain": [
       "<Figure size 1440x432 with 3 Axes>"
      ]
     },
     "metadata": {},
     "output_type": "display_data"
    }
   ],
   "source": [
    "#membuat plot bivariate\n",
    "#histogram 'MonthlyCharges', 'TotalCharges' dan 'tenure'\n",
    "fig, ax=plt.subplots(1,3,figsize=(20,6))\n",
    "df[df.Churn=='No']['MonthlyCharges'].hist(bins=20, color='teal', alpha=0.5, ax=ax[0], range=(0,175))\n",
    "df[df.Churn=='Yes']['MonthlyCharges'].hist(bins=20, color='gold', alpha=0.5, ax=ax[0], range=(0,175))\n",
    "df[df.Churn=='No']['TotalCharges'].hist(bins=20, color='teal', alpha=0.5, ax=ax[1], range=(0,8000))\n",
    "df[df.Churn=='Yes']['TotalCharges'].hist(bins=20, color='gold', alpha=0.5, ax=ax[1], range=(0,8000))\n",
    "df[df.Churn=='No']['tenure'].hist(bins=20, color='teal', alpha=0.5, ax=ax[2], range=(0,120))\n",
    "df[df.Churn=='Yes']['tenure'].hist(bins=20, color='gold', alpha=0.5, ax=ax[2], range=(0,120))\n",
    "ax[0].set_title('MonthlyCharges')\n",
    "ax[1].set_title('TotalCharges')\n",
    "ax[2].set_title('tenure')\n",
    "plt.legend(['No','Yes'],loc=1)\n",
    "plt.show()"
   ]
  },
  {
   "cell_type": "markdown",
   "metadata": {},
   "source": [
    "Berdasarkan gambar di atas, dapat dilihat bahwa:\n",
    "1. Semakin kecil nilai `MonthlyChargers`, maka jumlah `Churn` juga semakin kecil\n",
    "2. Untuk Variabel `TotalChargers`, tidak terdapat trend pada variabel `Churn`\n",
    "3. Semakin besar nilai variabel `tenure`, maka semakin kecil variabel `Churn`"
   ]
  },
  {
   "cell_type": "markdown",
   "metadata": {},
   "source": [
    "### Visualisasi Data Kategorik"
   ]
  },
  {
   "cell_type": "code",
   "execution_count": 28,
   "metadata": {},
   "outputs": [
    {
     "data": {
      "image/png": "[encoded data removed]",
      "text/plain": [
       "<Figure size 360x360 with 1 Axes>"
      ]
     },
     "metadata": {},
     "output_type": "display_data"
    }
   ],
   "source": [
    "#membuat pie chart 'churn'\n",
    "plt.figure(figsize=(5,5))\n",
    "plt.pie(df['Churn'].value_counts(), colors=['khaki','gold'],\n",
    "        labels=['No','Yes'], autopct='%.2f%%')\n",
    "plt.title('Persentase Churn', loc='left', fontsize=15)\n",
    "plt.show()"
   ]
  },
  {
   "cell_type": "markdown",
   "metadata": {},
   "source": [
    "Dapat dilihat bahwa persentase pelanggan yang masih belangganan (**73.58%**) lebih besar dari pelanggan yang berhenti berlangganan (**26.42%**)"
   ]
  },
  {
   "cell_type": "code",
   "execution_count": 29,
   "metadata": {},
   "outputs": [
    {
     "data": {
      "text/plain": [
       "<matplotlib.axes._subplots.AxesSubplot at 0x2cff58e1a48>"
      ]
     },
     "execution_count": 29,
     "metadata": {},
     "output_type": "execute_result"
    },
    {
     "data": {
      "image/png": "[encoded data removed]",
      "text/plain": [
       "<Figure size 1440x432 with 3 Axes>"
      ]
     },
     "metadata": {},
     "output_type": "display_data"
    }
   ],
   "source": [
    "#histogram 'gender','SeniorCitizen','Partner'\n",
    "fig, ax=plt.subplots(1,3,figsize=(20,6))\n",
    "sns.countplot(x='gender',hue='Churn',data=df,ax=ax[0])\n",
    "sns.countplot(x='SeniorCitizen',hue='Churn',data=df,ax=ax[1])\n",
    "sns.countplot(x='Partner',hue='Churn',data=df,ax=ax[2])"
   ]
  },
  {
   "cell_type": "code",
   "execution_count": 30,
   "metadata": {},
   "outputs": [
    {
     "data": {
      "text/plain": [
       "<matplotlib.axes._subplots.AxesSubplot at 0x2cff5624e88>"
      ]
     },
     "execution_count": 30,
     "metadata": {},
     "output_type": "execute_result"
    },
    {
     "data": {
      "image/png": "[encoded data removed]",
      "text/plain": [
       "<Figure size 1440x432 with 3 Axes>"
      ]
     },
     "metadata": {},
     "output_type": "display_data"
    }
   ],
   "source": [
    "#histogram 'Dependents','PhoneService','MultipleLines'\n",
    "fig, ax=plt.subplots(1,3,figsize=(20,6))\n",
    "sns.countplot(x='Dependents',hue='Churn',data=df,ax=ax[0])\n",
    "sns.countplot(x='PhoneService',hue='Churn',data=df,ax=ax[1])\n",
    "sns.countplot(x='MultipleLines',hue='Churn',data=df,ax=ax[2])"
   ]
  },
  {
   "cell_type": "code",
   "execution_count": 31,
   "metadata": {},
   "outputs": [
    {
     "data": {
      "text/plain": [
       "<matplotlib.axes._subplots.AxesSubplot at 0x2cff5b8f288>"
      ]
     },
     "execution_count": 31,
     "metadata": {},
     "output_type": "execute_result"
    },
    {
     "data": {
      "image/png": "[encoded data removed]",
      "text/plain": [
       "<Figure size 1440x432 with 3 Axes>"
      ]
     },
     "metadata": {},
     "output_type": "display_data"
    }
   ],
   "source": [
    "#histogram 'InternetService', 'OnlineSecurity','OnlineBackup'\n",
    "fig, ax=plt.subplots(1,3,figsize=(20,6))\n",
    "sns.countplot(x='InternetService',hue='Churn',data=df,ax=ax[0])\n",
    "sns.countplot(x='OnlineSecurity',hue='Churn',data=df,ax=ax[1])\n",
    "sns.countplot(x='OnlineBackup',hue='Churn',data=df,ax=ax[2])"
   ]
  },
  {
   "cell_type": "code",
   "execution_count": 32,
   "metadata": {},
   "outputs": [
    {
     "data": {
      "text/plain": [
       "<matplotlib.axes._subplots.AxesSubplot at 0x2cff510d188>"
      ]
     },
     "execution_count": 32,
     "metadata": {},
     "output_type": "execute_result"
    },
    {
     "data": {
      "image/png": "[encoded data removed]",
      "text/plain": [
       "<Figure size 1440x432 with 3 Axes>"
      ]
     },
     "metadata": {},
     "output_type": "display_data"
    }
   ],
   "source": [
    "#histogram 'DeviceProtection','TechSupport','StreamingTV'\n",
    "fig, ax=plt.subplots(1,3,figsize=(20,6))\n",
    "sns.countplot(x='DeviceProtection',hue='Churn',data=df,ax=ax[0])\n",
    "sns.countplot(x='TechSupport',hue='Churn',data=df,ax=ax[1])\n",
    "sns.countplot(x='StreamingTV',hue='Churn',data=df,ax=ax[2])"
   ]
  },
  {
   "cell_type": "code",
   "execution_count": 33,
   "metadata": {},
   "outputs": [
    {
     "data": {
      "text/plain": [
       "<matplotlib.axes._subplots.AxesSubplot at 0x2cff5742388>"
      ]
     },
     "execution_count": 33,
     "metadata": {},
     "output_type": "execute_result"
    },
    {
     "data": {
      "image/png": "[encoded data removed]",
      "text/plain": [
       "<Figure size 1440x432 with 3 Axes>"
      ]
     },
     "metadata": {},
     "output_type": "display_data"
    }
   ],
   "source": [
    "#histogram 'StreamingMovies','Contract','PaperlessBilling'\n",
    "fig, ax=plt.subplots(1,3,figsize=(20,6))\n",
    "sns.countplot(x='StreamingMovies',hue='Churn',data=df,ax=ax[0])\n",
    "sns.countplot(x='Contract',hue='Churn',data=df,ax=ax[1])\n",
    "sns.countplot(x='PaperlessBilling',hue='Churn',data=df,ax=ax[2])"
   ]
  },
  {
   "cell_type": "markdown",
   "metadata": {},
   "source": [
    "Berdasarkan bar chart di atas dapat disimpulkan bahwa:\n",
    "1. variabel `gender` dan `PhoneService` tidak memiliki pengaruh terhadap pemilihan `Churn`\n",
    "2. Pelanggan yang berlangganan dipengaruhi oleh variabel `Partner`, `StreamingTV`, `InternetService`, dan `PaperlessBilling`"
   ]
  },
  {
   "cell_type": "markdown",
   "metadata": {},
   "source": [
    "## Data Processing"
   ]
  },
  {
   "cell_type": "markdown",
   "metadata": {},
   "source": [
    "Data processing adalah proses persiapan data sebelum dilakukan pembagian data dan analisis data.\n",
    "Biasanya, data processing diawali dengan menghapus varaibel-variabel yang tidak digunakan dan hanya \n",
    "menyisakan variabel yang digunakan saja."
   ]
  },
  {
   "cell_type": "code",
   "execution_count": 34,
   "metadata": {},
   "outputs": [
    {
     "data": {
      "text/html": [
       "<div>\n",
       "<style scoped>\n",
       "    .dataframe tbody tr th:only-of-type {\n",
       "        vertical-align: middle;\n",
       "    }\n",
       "\n",
       "    .dataframe tbody tr th {\n",
       "        vertical-align: top;\n",
       "    }\n",
       "\n",
       "    .dataframe thead th {\n",
       "        text-align: right;\n",
       "    }\n",
       "</style>\n",
       "<table border=\"1\" class=\"dataframe\">\n",
       "  <thead>\n",
       "    <tr style=\"text-align: right;\">\n",
       "      <th></th>\n",
       "      <th>gender</th>\n",
       "      <th>SeniorCitizen</th>\n",
       "      <th>Partner</th>\n",
       "      <th>tenure</th>\n",
       "      <th>PhoneService</th>\n",
       "      <th>InternetService</th>\n",
       "      <th>StreamingTV</th>\n",
       "      <th>PaperlessBilling</th>\n",
       "      <th>MonthlyCharges</th>\n",
       "      <th>TotalCharges</th>\n",
       "      <th>Churn</th>\n",
       "    </tr>\n",
       "  </thead>\n",
       "  <tbody>\n",
       "    <tr>\n",
       "      <th>0</th>\n",
       "      <td>Female</td>\n",
       "      <td>0</td>\n",
       "      <td>Yes</td>\n",
       "      <td>1.0</td>\n",
       "      <td>No</td>\n",
       "      <td>DSL</td>\n",
       "      <td>No</td>\n",
       "      <td>Yes</td>\n",
       "      <td>29.85</td>\n",
       "      <td>29.85</td>\n",
       "      <td>No</td>\n",
       "    </tr>\n",
       "    <tr>\n",
       "      <th>4722</th>\n",
       "      <td>Female</td>\n",
       "      <td>0</td>\n",
       "      <td>No</td>\n",
       "      <td>60.0</td>\n",
       "      <td>Yes</td>\n",
       "      <td>DSL</td>\n",
       "      <td>Yes</td>\n",
       "      <td>Yes</td>\n",
       "      <td>70.15</td>\n",
       "      <td>4224.70</td>\n",
       "      <td>No</td>\n",
       "    </tr>\n",
       "    <tr>\n",
       "      <th>4734</th>\n",
       "      <td>Male</td>\n",
       "      <td>0</td>\n",
       "      <td>Yes</td>\n",
       "      <td>39.0</td>\n",
       "      <td>Yes</td>\n",
       "      <td>DSL</td>\n",
       "      <td>Yes</td>\n",
       "      <td>No</td>\n",
       "      <td>80.00</td>\n",
       "      <td>3182.95</td>\n",
       "      <td>Yes</td>\n",
       "    </tr>\n",
       "    <tr>\n",
       "      <th>4733</th>\n",
       "      <td>Male</td>\n",
       "      <td>0</td>\n",
       "      <td>Yes</td>\n",
       "      <td>12.0</td>\n",
       "      <td>Yes</td>\n",
       "      <td>Fiber optic</td>\n",
       "      <td>No</td>\n",
       "      <td>Yes</td>\n",
       "      <td>84.60</td>\n",
       "      <td>959.90</td>\n",
       "      <td>No</td>\n",
       "    </tr>\n",
       "    <tr>\n",
       "      <th>4732</th>\n",
       "      <td>Female</td>\n",
       "      <td>0</td>\n",
       "      <td>Yes</td>\n",
       "      <td>71.0</td>\n",
       "      <td>Yes</td>\n",
       "      <td>No</td>\n",
       "      <td>No internet service</td>\n",
       "      <td>No</td>\n",
       "      <td>19.90</td>\n",
       "      <td>1397.30</td>\n",
       "      <td>No</td>\n",
       "    </tr>\n",
       "    <tr>\n",
       "      <th>...</th>\n",
       "      <td>...</td>\n",
       "      <td>...</td>\n",
       "      <td>...</td>\n",
       "      <td>...</td>\n",
       "      <td>...</td>\n",
       "      <td>...</td>\n",
       "      <td>...</td>\n",
       "      <td>...</td>\n",
       "      <td>...</td>\n",
       "      <td>...</td>\n",
       "      <td>...</td>\n",
       "    </tr>\n",
       "    <tr>\n",
       "      <th>2364</th>\n",
       "      <td>Male</td>\n",
       "      <td>0</td>\n",
       "      <td>Yes</td>\n",
       "      <td>14.0</td>\n",
       "      <td>Yes</td>\n",
       "      <td>Fiber optic</td>\n",
       "      <td>No</td>\n",
       "      <td>Yes</td>\n",
       "      <td>82.65</td>\n",
       "      <td>1185.00</td>\n",
       "      <td>No</td>\n",
       "    </tr>\n",
       "    <tr>\n",
       "      <th>2363</th>\n",
       "      <td>Male</td>\n",
       "      <td>0</td>\n",
       "      <td>No</td>\n",
       "      <td>1.0</td>\n",
       "      <td>Yes</td>\n",
       "      <td>DSL</td>\n",
       "      <td>No</td>\n",
       "      <td>Yes</td>\n",
       "      <td>44.75</td>\n",
       "      <td>44.75</td>\n",
       "      <td>No</td>\n",
       "    </tr>\n",
       "    <tr>\n",
       "      <th>2362</th>\n",
       "      <td>Male</td>\n",
       "      <td>0</td>\n",
       "      <td>Yes</td>\n",
       "      <td>49.0</td>\n",
       "      <td>No</td>\n",
       "      <td>DSL</td>\n",
       "      <td>No</td>\n",
       "      <td>Yes</td>\n",
       "      <td>39.20</td>\n",
       "      <td>1838.15</td>\n",
       "      <td>No</td>\n",
       "    </tr>\n",
       "    <tr>\n",
       "      <th>2361</th>\n",
       "      <td>Female</td>\n",
       "      <td>0</td>\n",
       "      <td>No</td>\n",
       "      <td>1.0</td>\n",
       "      <td>Yes</td>\n",
       "      <td>DSL</td>\n",
       "      <td>No</td>\n",
       "      <td>No</td>\n",
       "      <td>45.95</td>\n",
       "      <td>45.95</td>\n",
       "      <td>Yes</td>\n",
       "    </tr>\n",
       "    <tr>\n",
       "      <th>2360</th>\n",
       "      <td>Male</td>\n",
       "      <td>0</td>\n",
       "      <td>Yes</td>\n",
       "      <td>62.0</td>\n",
       "      <td>Yes</td>\n",
       "      <td>No</td>\n",
       "      <td>No internet service</td>\n",
       "      <td>No</td>\n",
       "      <td>20.05</td>\n",
       "      <td>1263.90</td>\n",
       "      <td>No</td>\n",
       "    </tr>\n",
       "  </tbody>\n",
       "</table>\n",
       "<p>6945 rows × 11 columns</p>\n",
       "</div>"
      ],
      "text/plain": [
       "      gender  SeniorCitizen Partner  tenure PhoneService InternetService  \\\n",
       "0     Female              0     Yes     1.0           No             DSL   \n",
       "4722  Female              0      No    60.0          Yes             DSL   \n",
       "4734    Male              0     Yes    39.0          Yes             DSL   \n",
       "4733    Male              0     Yes    12.0          Yes     Fiber optic   \n",
       "4732  Female              0     Yes    71.0          Yes              No   \n",
       "...      ...            ...     ...     ...          ...             ...   \n",
       "2364    Male              0     Yes    14.0          Yes     Fiber optic   \n",
       "2363    Male              0      No     1.0          Yes             DSL   \n",
       "2362    Male              0     Yes    49.0           No             DSL   \n",
       "2361  Female              0      No     1.0          Yes             DSL   \n",
       "2360    Male              0     Yes    62.0          Yes              No   \n",
       "\n",
       "              StreamingTV PaperlessBilling  MonthlyCharges  TotalCharges Churn  \n",
       "0                      No              Yes           29.85         29.85    No  \n",
       "4722                  Yes              Yes           70.15       4224.70    No  \n",
       "4734                  Yes               No           80.00       3182.95   Yes  \n",
       "4733                   No              Yes           84.60        959.90    No  \n",
       "4732  No internet service               No           19.90       1397.30    No  \n",
       "...                   ...              ...             ...           ...   ...  \n",
       "2364                   No              Yes           82.65       1185.00    No  \n",
       "2363                   No              Yes           44.75         44.75    No  \n",
       "2362                   No              Yes           39.20       1838.15    No  \n",
       "2361                   No               No           45.95         45.95   Yes  \n",
       "2360  No internet service               No           20.05       1263.90    No  \n",
       "\n",
       "[6945 rows x 11 columns]"
      ]
     },
     "execution_count": 34,
     "metadata": {},
     "output_type": "execute_result"
    }
   ],
   "source": [
    "#membuat data frame baru dengan menghapus kolom yang tidak digunakan\n",
    "cleaned_df=df.drop(columns=['UpdatedAt','customerID','Dependents','MultipleLines','OnlineSecurity','OnlineBackup',\n",
    "                            'DeviceProtection','TechSupport','StreamingMovies','Contract','PaymentMethod'])\n",
    "cleaned_df"
   ]
  },
  {
   "cell_type": "markdown",
   "metadata": {},
   "source": [
    "Proses selanjutnya adalah mengubah data yang berbentuk string (Ya/Tidak) ke dalam bentuk numerik menggunakan library `numpy` dan `sklearn`"
   ]
  },
  {
   "cell_type": "code",
   "execution_count": 35,
   "metadata": {},
   "outputs": [],
   "source": [
    "import numpy as np\n",
    "from sklearn.preprocessing import LabelEncoder"
   ]
  },
  {
   "cell_type": "code",
   "execution_count": 36,
   "metadata": {},
   "outputs": [
    {
     "data": {
      "text/html": [
       "<div>\n",
       "<style scoped>\n",
       "    .dataframe tbody tr th:only-of-type {\n",
       "        vertical-align: middle;\n",
       "    }\n",
       "\n",
       "    .dataframe tbody tr th {\n",
       "        vertical-align: top;\n",
       "    }\n",
       "\n",
       "    .dataframe thead th {\n",
       "        text-align: right;\n",
       "    }\n",
       "</style>\n",
       "<table border=\"1\" class=\"dataframe\">\n",
       "  <thead>\n",
       "    <tr style=\"text-align: right;\">\n",
       "      <th></th>\n",
       "      <th>gender</th>\n",
       "      <th>SeniorCitizen</th>\n",
       "      <th>Partner</th>\n",
       "      <th>tenure</th>\n",
       "      <th>PhoneService</th>\n",
       "      <th>InternetService</th>\n",
       "      <th>StreamingTV</th>\n",
       "      <th>PaperlessBilling</th>\n",
       "      <th>MonthlyCharges</th>\n",
       "      <th>TotalCharges</th>\n",
       "      <th>Churn</th>\n",
       "    </tr>\n",
       "  </thead>\n",
       "  <tbody>\n",
       "    <tr>\n",
       "      <th>0</th>\n",
       "      <td>0</td>\n",
       "      <td>0</td>\n",
       "      <td>1</td>\n",
       "      <td>1.0</td>\n",
       "      <td>0</td>\n",
       "      <td>0</td>\n",
       "      <td>0</td>\n",
       "      <td>1</td>\n",
       "      <td>29.85</td>\n",
       "      <td>29.85</td>\n",
       "      <td>0</td>\n",
       "    </tr>\n",
       "    <tr>\n",
       "      <th>4722</th>\n",
       "      <td>0</td>\n",
       "      <td>0</td>\n",
       "      <td>0</td>\n",
       "      <td>60.0</td>\n",
       "      <td>1</td>\n",
       "      <td>0</td>\n",
       "      <td>2</td>\n",
       "      <td>1</td>\n",
       "      <td>70.15</td>\n",
       "      <td>4224.70</td>\n",
       "      <td>0</td>\n",
       "    </tr>\n",
       "    <tr>\n",
       "      <th>4734</th>\n",
       "      <td>1</td>\n",
       "      <td>0</td>\n",
       "      <td>1</td>\n",
       "      <td>39.0</td>\n",
       "      <td>1</td>\n",
       "      <td>0</td>\n",
       "      <td>2</td>\n",
       "      <td>0</td>\n",
       "      <td>80.00</td>\n",
       "      <td>3182.95</td>\n",
       "      <td>1</td>\n",
       "    </tr>\n",
       "    <tr>\n",
       "      <th>4733</th>\n",
       "      <td>1</td>\n",
       "      <td>0</td>\n",
       "      <td>1</td>\n",
       "      <td>12.0</td>\n",
       "      <td>1</td>\n",
       "      <td>1</td>\n",
       "      <td>0</td>\n",
       "      <td>1</td>\n",
       "      <td>84.60</td>\n",
       "      <td>959.90</td>\n",
       "      <td>0</td>\n",
       "    </tr>\n",
       "    <tr>\n",
       "      <th>4732</th>\n",
       "      <td>0</td>\n",
       "      <td>0</td>\n",
       "      <td>1</td>\n",
       "      <td>71.0</td>\n",
       "      <td>1</td>\n",
       "      <td>2</td>\n",
       "      <td>1</td>\n",
       "      <td>0</td>\n",
       "      <td>19.90</td>\n",
       "      <td>1397.30</td>\n",
       "      <td>0</td>\n",
       "    </tr>\n",
       "  </tbody>\n",
       "</table>\n",
       "</div>"
      ],
      "text/plain": [
       "      gender  SeniorCitizen  Partner  tenure  PhoneService  InternetService  \\\n",
       "0          0              0        1     1.0             0                0   \n",
       "4722       0              0        0    60.0             1                0   \n",
       "4734       1              0        1    39.0             1                0   \n",
       "4733       1              0        1    12.0             1                1   \n",
       "4732       0              0        1    71.0             1                2   \n",
       "\n",
       "      StreamingTV  PaperlessBilling  MonthlyCharges  TotalCharges  Churn  \n",
       "0               0                 1           29.85         29.85      0  \n",
       "4722            2                 1           70.15       4224.70      0  \n",
       "4734            2                 0           80.00       3182.95      1  \n",
       "4733            0                 1           84.60        959.90      0  \n",
       "4732            1                 0           19.90       1397.30      0  "
      ]
     },
     "execution_count": 36,
     "metadata": {},
     "output_type": "execute_result"
    }
   ],
   "source": [
    "#encoding data\n",
    "for i in cleaned_df.columns:\n",
    "    if cleaned_df[i].dtype==np.number:\n",
    "        continue\n",
    "    cleaned_df[i]=LabelEncoder().fit_transform(cleaned_df[i])\n",
    "cleaned_df.head()"
   ]
  },
  {
   "cell_type": "markdown",
   "metadata": {},
   "source": [
    "## Membagi Data"
   ]
  },
  {
   "cell_type": "markdown",
   "metadata": {},
   "source": [
    "Setelah semua data di dalam variabel diubah, langkah selanjutnya adalah membagi data menjadi data testing dan data training. Tujuan pembagian data ini adalah untuk menguji model yang kita hasilkan pada saat proses analisis. Biasanya sebesar 70% untuk data traning dan 30% untuk data testing. Data training digunakan untuk membangun model, sedangkan data testing digunakan untuk menguji keakuratan model."
   ]
  },
  {
   "cell_type": "markdown",
   "metadata": {},
   "source": [
    "Library yang digunakan untuk membagi data adalah `sklearn`"
   ]
  },
  {
   "cell_type": "code",
   "execution_count": 37,
   "metadata": {},
   "outputs": [],
   "source": [
    "from sklearn.model_selection import train_test_split"
   ]
  },
  {
   "cell_type": "code",
   "execution_count": 38,
   "metadata": {},
   "outputs": [],
   "source": [
    "#memisahkan data\n",
    "x=cleaned_df.drop(columns='Churn')\n",
    "y=cleaned_df['Churn']\n",
    "\n",
    "#membagi data menjadi training dan testing\n",
    "x_train, x_test, y_train, y_test= train_test_split(x,y,test_size=0.3, random_state=42)"
   ]
  },
  {
   "cell_type": "markdown",
   "metadata": {},
   "source": [
    "## Machine Learning Modelling"
   ]
  },
  {
   "cell_type": "markdown",
   "metadata": {},
   "source": [
    "Data yang digunakan merupakan data kategorik, sehingga analisis yang mungkin dilakukan adalah klasifikasi. Terdapat beberapa metode yang data digunakan seperti:\n",
    "1. Regresi Logitik\n",
    "2. Random Focast Classifier\n",
    "3. Gradient Boosting Classifier\n",
    "4. Decision Tree\n",
    "5. dll"
   ]
  },
  {
   "cell_type": "markdown",
   "metadata": {},
   "source": [
    "### Regresi Logistik "
   ]
  },
  {
   "cell_type": "code",
   "execution_count": 39,
   "metadata": {},
   "outputs": [],
   "source": [
    "from sklearn.linear_model import LogisticRegression"
   ]
  },
  {
   "cell_type": "code",
   "execution_count": 40,
   "metadata": {},
   "outputs": [
    {
     "name": "stderr",
     "output_type": "stream",
     "text": [
      "C:\\Users\\LENOVO\\anaconda3\\lib\\site-packages\\sklearn\\linear_model\\_logistic.py:940: ConvergenceWarning: lbfgs failed to converge (status=1):\n",
      "STOP: TOTAL NO. of ITERATIONS REACHED LIMIT.\n",
      "\n",
      "Increase the number of iterations (max_iter) or scale the data as shown in:\n",
      "    https://scikit-learn.org/stable/modules/preprocessing.html\n",
      "Please also refer to the documentation for alternative solver options:\n",
      "    https://scikit-learn.org/stable/modules/linear_model.html#logistic-regression\n",
      "  extra_warning_msg=_LOGISTIC_SOLVER_CONVERGENCE_MSG)\n"
     ]
    },
    {
     "data": {
      "text/plain": [
       "LogisticRegression(C=1.0, class_weight=None, dual=False, fit_intercept=True,\n",
       "                   intercept_scaling=1, l1_ratio=None, max_iter=100,\n",
       "                   multi_class='auto', n_jobs=None, penalty='l2',\n",
       "                   random_state=None, solver='lbfgs', tol=0.0001, verbose=0,\n",
       "                   warm_start=False)"
      ]
     },
     "execution_count": 40,
     "metadata": {},
     "output_type": "execute_result"
    }
   ],
   "source": [
    "#algoritma regresi logistik\n",
    "log_model=LogisticRegression().fit(x_train, y_train)\n",
    "log_model"
   ]
  },
  {
   "cell_type": "code",
   "execution_count": 41,
   "metadata": {},
   "outputs": [],
   "source": [
    "from sklearn.metrics import classification_report\n",
    "from sklearn.metrics import accuracy_score"
   ]
  },
  {
   "cell_type": "code",
   "execution_count": 42,
   "metadata": {},
   "outputs": [
    {
     "name": "stdout",
     "output_type": "stream",
     "text": [
      "              precision    recall  f1-score   support\n",
      "\n",
      "           0       0.83      0.90      0.86      3592\n",
      "           1       0.63      0.48      0.54      1269\n",
      "\n",
      "    accuracy                           0.79      4861\n",
      "   macro avg       0.73      0.69      0.70      4861\n",
      "weighted avg       0.78      0.79      0.78      4861\n",
      "\n",
      "Akurasi = 79.08\n"
     ]
    }
   ],
   "source": [
    "#hasil prediksi dan klasifikasi\n",
    "y_train_pred=log_model.predict(x_train)\n",
    "print(classification_report(y_train, y_train_pred))\n",
    "akurasi=accuracy_score(y_train, y_train_pred)*100\n",
    "print('Akurasi = %.2f'%akurasi)"
   ]
  },
  {
   "cell_type": "code",
   "execution_count": 43,
   "metadata": {},
   "outputs": [],
   "source": [
    "from sklearn.metrics import confusion_matrix"
   ]
  },
  {
   "cell_type": "code",
   "execution_count": 44,
   "metadata": {},
   "outputs": [],
   "source": [
    "#confusion matriks dari data frame\n",
    "confusion_matrix_df=pd.DataFrame((confusion_matrix(y_train, y_train_pred)),\n",
    "                                 ('No Churn', 'Churn'),('No Churn', 'Churn'))"
   ]
  },
  {
   "cell_type": "code",
   "execution_count": 45,
   "metadata": {},
   "outputs": [
    {
     "data": {
      "image/png": "[encoded data removed]",
      "text/plain": [
       "<Figure size 432x288 with 2 Axes>"
      ]
     },
     "metadata": {},
     "output_type": "display_data"
    }
   ],
   "source": [
    "#plot cunfusion matrrix\n",
    "plt.figure()\n",
    "heatmap=sns.heatmap(confusion_matrix_df, annot=True, annot_kws={'size':14}, fmt='d', cmap='YlGnBu')\n",
    "heatmap.yaxis.set_ticklabels(heatmap.yaxis.get_ticklabels(), rotation=0, ha='right', fontsize=14)\n",
    "heatmap.xaxis.set_ticklabels(heatmap.xaxis.get_ticklabels(), rotation=0, ha='right', fontsize=14)\n",
    "\n",
    "plt.title('Confusion Matrix dari Model Data Training\\n(Logistic Regression)', fontsize=18, color='darkblue')\n",
    "plt.ylabel('True Label', fontsize=14)\n",
    "plt.xlabel('Predicted Label', fontsize=14)\n",
    "plt.show()"
   ]
  },
  {
   "cell_type": "code",
   "execution_count": 46,
   "metadata": {},
   "outputs": [
    {
     "name": "stdout",
     "output_type": "stream",
     "text": [
      "              precision    recall  f1-score   support\n",
      "\n",
      "           0       0.82      0.91      0.87      1518\n",
      "           1       0.67      0.48      0.56       566\n",
      "\n",
      "    accuracy                           0.80      2084\n",
      "   macro avg       0.75      0.70      0.71      2084\n",
      "weighted avg       0.78      0.80      0.78      2084\n",
      "\n",
      "Akurasi = 79.51\n"
     ]
    }
   ],
   "source": [
    "#hasil prediksi dan klasifikasi\n",
    "y_test_pred=log_model.predict(x_test)\n",
    "print(classification_report(y_test, y_test_pred))\n",
    "akurasi_test=accuracy_score(y_test, y_test_pred)*100\n",
    "print('Akurasi = %.2f'%akurasi_test)"
   ]
  },
  {
   "cell_type": "code",
   "execution_count": 47,
   "metadata": {},
   "outputs": [],
   "source": [
    "#confusion matriks dari data frame\n",
    "confusion_matrix_df=pd.DataFrame((confusion_matrix(y_test, y_test_pred)),\n",
    "                                 ('No Churn', 'Churn'),('No Churn', 'Churn'))"
   ]
  },
  {
   "cell_type": "code",
   "execution_count": 48,
   "metadata": {},
   "outputs": [
    {
     "data": {
      "image/png": "[encoded data removed]",
      "text/plain": [
       "<Figure size 432x288 with 2 Axes>"
      ]
     },
     "metadata": {},
     "output_type": "display_data"
    }
   ],
   "source": [
    "plt.figure()\n",
    "heatmap=sns.heatmap(confusion_matrix_df, annot=True, annot_kws={'size':14}, fmt='d', cmap='YlGnBu')\n",
    "heatmap.yaxis.set_ticklabels(heatmap.yaxis.get_ticklabels(), rotation=0, ha='right', fontsize=14)\n",
    "heatmap.xaxis.set_ticklabels(heatmap.xaxis.get_ticklabels(), rotation=0, ha='right', fontsize=14)\n",
    "\n",
    "plt.title('Confusion Matrix dari Model Data Training\\n(Logistic Regression)', fontsize=18, color='darkblue')\n",
    "plt.ylabel('True Label', fontsize=14)\n",
    "plt.xlabel('Predicted Label', fontsize=14)\n",
    "plt.show()"
   ]
  },
  {
   "cell_type": "markdown",
   "metadata": {},
   "source": [
    "### Random Forest Classifier"
   ]
  },
  {
   "cell_type": "code",
   "execution_count": 49,
   "metadata": {},
   "outputs": [],
   "source": [
    "from sklearn.ensemble import RandomForestClassifier"
   ]
  },
  {
   "cell_type": "code",
   "execution_count": 50,
   "metadata": {},
   "outputs": [
    {
     "data": {
      "text/plain": [
       "RandomForestClassifier(bootstrap=True, ccp_alpha=0.0, class_weight=None,\n",
       "                       criterion='gini', max_depth=None, max_features='auto',\n",
       "                       max_leaf_nodes=None, max_samples=None,\n",
       "                       min_impurity_decrease=0.0, min_impurity_split=None,\n",
       "                       min_samples_leaf=1, min_samples_split=2,\n",
       "                       min_weight_fraction_leaf=0.0, n_estimators=100,\n",
       "                       n_jobs=None, oob_score=False, random_state=None,\n",
       "                       verbose=0, warm_start=False)"
      ]
     },
     "execution_count": 50,
     "metadata": {},
     "output_type": "execute_result"
    }
   ],
   "source": [
    "#algoritma Random Forest Classifier\n",
    "rdf_model=RandomForestClassifier().fit(x_train, y_train)\n",
    "rdf_model"
   ]
  },
  {
   "cell_type": "code",
   "execution_count": 51,
   "metadata": {},
   "outputs": [
    {
     "name": "stdout",
     "output_type": "stream",
     "text": [
      "              precision    recall  f1-score   support\n",
      "\n",
      "           0       1.00      1.00      1.00      3592\n",
      "           1       0.99      0.99      0.99      1269\n",
      "\n",
      "    accuracy                           1.00      4861\n",
      "   macro avg       1.00      0.99      0.99      4861\n",
      "weighted avg       1.00      1.00      1.00      4861\n",
      "\n",
      "Akurasi = 99.57\n"
     ]
    }
   ],
   "source": [
    "#hasil prediksi dan klasifikasi\n",
    "y_train_pred=rdf_model.predict(x_train)\n",
    "print(classification_report(y_train, y_train_pred))\n",
    "akurasi=accuracy_score(y_train, y_train_pred)*100\n",
    "print('Akurasi = %.2f'%akurasi)"
   ]
  },
  {
   "cell_type": "code",
   "execution_count": 52,
   "metadata": {},
   "outputs": [],
   "source": [
    "#confusion matriks dari data frame\n",
    "confusion_matrix_df=pd.DataFrame((confusion_matrix(y_train, y_train_pred)),\n",
    "                                 ('No Churn', 'Churn'),('No Churn', 'Churn'))"
   ]
  },
  {
   "cell_type": "code",
   "execution_count": 53,
   "metadata": {},
   "outputs": [
    {
     "data": {
      "image/png": "[encoded data removed]",
      "text/plain": [
       "<Figure size 432x288 with 2 Axes>"
      ]
     },
     "metadata": {},
     "output_type": "display_data"
    }
   ],
   "source": [
    "plt.figure()\n",
    "heatmap=sns.heatmap(confusion_matrix_df, annot=True, annot_kws={'size':14}, fmt='d', cmap='YlGnBu')\n",
    "heatmap.yaxis.set_ticklabels(heatmap.yaxis.get_ticklabels(), rotation=0, ha='right', fontsize=14)\n",
    "heatmap.xaxis.set_ticklabels(heatmap.xaxis.get_ticklabels(), rotation=0, ha='right', fontsize=14)\n",
    "\n",
    "plt.title('Confusion Matrix dari Model Data Training\\n(Random Forest Classifier)', fontsize=18, color='darkblue')\n",
    "plt.ylabel('True Label', fontsize=14)\n",
    "plt.xlabel('Predicted Label', fontsize=14)\n",
    "plt.show()"
   ]
  },
  {
   "cell_type": "code",
   "execution_count": 54,
   "metadata": {},
   "outputs": [
    {
     "name": "stdout",
     "output_type": "stream",
     "text": [
      "              precision    recall  f1-score   support\n",
      "\n",
      "           0       0.82      0.91      0.87      1518\n",
      "           1       0.67      0.48      0.56       566\n",
      "\n",
      "    accuracy                           0.80      2084\n",
      "   macro avg       0.75      0.70      0.71      2084\n",
      "weighted avg       0.78      0.80      0.78      2084\n",
      "\n",
      "Akurasi = 79.51\n"
     ]
    }
   ],
   "source": [
    "#hasil prediksi dan klasifikasi\n",
    "y_trest_pred=rdf_model.predict(x_test)\n",
    "print(classification_report(y_test, y_test_pred))\n",
    "akurasi_test=accuracy_score(y_test, y_test_pred)*100\n",
    "print('Akurasi = %.2f'%akurasi_test)"
   ]
  },
  {
   "cell_type": "code",
   "execution_count": 55,
   "metadata": {},
   "outputs": [],
   "source": [
    "#confusion matriks dari data frame\n",
    "confusion_matrix_df=pd.DataFrame((confusion_matrix(y_test, y_test_pred)),\n",
    "                                 ('No Churn', 'Churn'),('No Churn', 'Churn'))"
   ]
  },
  {
   "cell_type": "code",
   "execution_count": 56,
   "metadata": {},
   "outputs": [
    {
     "data": {
      "image/png": "[encoded data removed]",
      "text/plain": [
       "<Figure size 432x288 with 2 Axes>"
      ]
     },
     "metadata": {},
     "output_type": "display_data"
    }
   ],
   "source": [
    "plt.figure()\n",
    "heatmap=sns.heatmap(confusion_matrix_df, annot=True, annot_kws={'size':14}, fmt='d', cmap='YlGnBu')\n",
    "heatmap.yaxis.set_ticklabels(heatmap.yaxis.get_ticklabels(), rotation=0, ha='right', fontsize=14)\n",
    "heatmap.xaxis.set_ticklabels(heatmap.xaxis.get_ticklabels(), rotation=0, ha='right', fontsize=14)\n",
    "\n",
    "plt.title('Confusion Matrix dari Model Data Training\\n(Random Forest Classifier)', fontsize=18, color='darkblue')\n",
    "plt.ylabel('True Label', fontsize=14)\n",
    "plt.xlabel('Predicted Label', fontsize=14)\n",
    "plt.show()"
   ]
  },
  {
   "cell_type": "markdown",
   "metadata": {},
   "source": [
    "### Gradient Boosting Clasifier"
   ]
  },
  {
   "cell_type": "code",
   "execution_count": 57,
   "metadata": {},
   "outputs": [],
   "source": [
    "from sklearn.ensemble import GradientBoostingClassifier"
   ]
  },
  {
   "cell_type": "code",
   "execution_count": 58,
   "metadata": {},
   "outputs": [
    {
     "data": {
      "text/plain": [
       "GradientBoostingClassifier(ccp_alpha=0.0, criterion='friedman_mse', init=None,\n",
       "                           learning_rate=0.1, loss='deviance', max_depth=3,\n",
       "                           max_features=None, max_leaf_nodes=None,\n",
       "                           min_impurity_decrease=0.0, min_impurity_split=None,\n",
       "                           min_samples_leaf=1, min_samples_split=2,\n",
       "                           min_weight_fraction_leaf=0.0, n_estimators=100,\n",
       "                           n_iter_no_change=None, presort='deprecated',\n",
       "                           random_state=None, subsample=1.0, tol=0.0001,\n",
       "                           validation_fraction=0.1, verbose=0,\n",
       "                           warm_start=False)"
      ]
     },
     "execution_count": 58,
     "metadata": {},
     "output_type": "execute_result"
    }
   ],
   "source": [
    "#algoritma Gradient Boosting Classifier\n",
    "gbt_model=GradientBoostingClassifier().fit(x_train, y_train)\n",
    "gbt_model"
   ]
  },
  {
   "cell_type": "code",
   "execution_count": 59,
   "metadata": {},
   "outputs": [
    {
     "name": "stdout",
     "output_type": "stream",
     "text": [
      "              precision    recall  f1-score   support\n",
      "\n",
      "           0       0.85      0.92      0.88      3592\n",
      "           1       0.70      0.52      0.60      1269\n",
      "\n",
      "    accuracy                           0.82      4861\n",
      "   macro avg       0.77      0.72      0.74      4861\n",
      "weighted avg       0.81      0.82      0.81      4861\n",
      "\n",
      "Akurasi = 81.63\n"
     ]
    }
   ],
   "source": [
    "#hasil prediksi dan klasifikasi\n",
    "y_train_pred=gbt_model.predict(x_train)\n",
    "print(classification_report(y_train, y_train_pred))\n",
    "akurasi= accuracy_score(y_train, y_train_pred)*100\n",
    "print('Akurasi = %.2f'%akurasi)"
   ]
  },
  {
   "cell_type": "code",
   "execution_count": 60,
   "metadata": {},
   "outputs": [],
   "source": [
    "#confusion matriks dari data frame\n",
    "confusion_matrix_df=pd.DataFrame((confusion_matrix(y_train, y_train_pred)),\n",
    "                                 ('No Churn', 'Churn'),('No Churn', 'Churn'))"
   ]
  },
  {
   "cell_type": "code",
   "execution_count": 61,
   "metadata": {},
   "outputs": [
    {
     "data": {
      "image/png": "[encoded data removed]",
      "text/plain": [
       "<Figure size 432x288 with 2 Axes>"
      ]
     },
     "metadata": {},
     "output_type": "display_data"
    }
   ],
   "source": [
    "plt.figure()\n",
    "heatmap=sns.heatmap(confusion_matrix_df, annot=True, annot_kws={'size':14}, fmt='d', cmap='YlGnBu')\n",
    "heatmap.yaxis.set_ticklabels(heatmap.yaxis.get_ticklabels(), rotation=0, ha='right', fontsize=14)\n",
    "heatmap.xaxis.set_ticklabels(heatmap.xaxis.get_ticklabels(), rotation=0, ha='right', fontsize=14)\n",
    "\n",
    "plt.title('Confusion Matrix dari Model Data Training\\n(Gradient Boosting Classifier)', fontsize=18, color='darkblue')\n",
    "plt.ylabel('True Label', fontsize=14)\n",
    "plt.xlabel('Predicted Label', fontsize=14)\n",
    "plt.show()"
   ]
  },
  {
   "cell_type": "code",
   "execution_count": 62,
   "metadata": {},
   "outputs": [
    {
     "name": "stdout",
     "output_type": "stream",
     "text": [
      "              precision    recall  f1-score   support\n",
      "\n",
      "           0       0.82      0.92      0.87      1518\n",
      "           1       0.68      0.48      0.56       566\n",
      "\n",
      "    accuracy                           0.80      2084\n",
      "   macro avg       0.75      0.70      0.71      2084\n",
      "weighted avg       0.79      0.80      0.79      2084\n",
      "\n",
      "Akurasi = 79.80\n"
     ]
    }
   ],
   "source": [
    "#hasil prediksi dan klasifikasi\n",
    "y_test_pred=gbt_model.predict(x_test)\n",
    "print(classification_report(y_test, y_test_pred))\n",
    "akurasi_test= accuracy_score(y_test, y_test_pred)*100\n",
    "print('Akurasi = %.2f'%akurasi_test)"
   ]
  },
  {
   "cell_type": "code",
   "execution_count": 63,
   "metadata": {},
   "outputs": [],
   "source": [
    "#confusion matriks dari data frame\n",
    "confusion_matrix_df=pd.DataFrame((confusion_matrix(y_test, y_test_pred)),\n",
    "                                 ('No Churn', 'Churn'),('No Churn', 'Churn'))"
   ]
  },
  {
   "cell_type": "code",
   "execution_count": 64,
   "metadata": {},
   "outputs": [
    {
     "data": {
      "image/png": "[encoded data removed]",
      "text/plain": [
       "<Figure size 432x288 with 2 Axes>"
      ]
     },
     "metadata": {},
     "output_type": "display_data"
    }
   ],
   "source": [
    "plt.figure()\n",
    "heatmap=sns.heatmap(confusion_matrix_df, annot=True, annot_kws={'size':14}, fmt='d', cmap='YlGnBu')\n",
    "heatmap.yaxis.set_ticklabels(heatmap.yaxis.get_ticklabels(), rotation=0, ha='right', fontsize=14)\n",
    "heatmap.xaxis.set_ticklabels(heatmap.xaxis.get_ticklabels(), rotation=0, ha='right', fontsize=14)\n",
    "\n",
    "plt.title('Confusion Matrix dari Model Data Training\\n(Gradient Boosting Classifier)', fontsize=18, color='darkblue')\n",
    "plt.ylabel('True Label', fontsize=14)\n",
    "plt.xlabel('Predicted Label', fontsize=14)\n",
    "plt.show()"
   ]
  },
  {
   "cell_type": "markdown",
   "metadata": {},
   "source": [
    "### Memilih model terbaik"
   ]
  },
  {
   "cell_type": "markdown",
   "metadata": {},
   "source": [
    "Model yang baik adalah model yang memiliki nilai akurasi yang tinggi pada tahap testing dan tahap training.\n",
    "1. **Over-Fitting**, ketika nilai akurasi tahap training bagus, tetapi pada tahap testing tidak sebagus training\n",
    "2.  **Appropriate-Fitting**, ketika nilai akurasi tahap training dan testing bagus\n",
    "3.  **Under-Fitting**, ketika nilai akurasi tahap testing bagus, tetapi pada tahap traing tidak sebagus training"
   ]
  },
  {
   "cell_type": "markdown",
   "metadata": {},
   "source": [
    "## Kesimpulan"
   ]
  },
  {
   "cell_type": "markdown",
   "metadata": {},
   "source": [
    "Berdasarkan hasil analisis **regresi logistik, random forest classifier, dan gradient boosting classifier** diperoleh model untuk memprediksi `Churn` berdasarkan dataset yang ada. Model yang paling optimal adalah **regresi logistik**, karena nilai akurasi yang dihasilkan pada tahap training dan testing tidak terlalu jauh berbeda. Sedangkan analisis yang lain cenderung **over-fitting**\n",
    "\n",
    "Banyak faktor yang dapat mempengaruhi nilai akurasi model, seperti pada saat pemilihan variabel atau menambahkan variabel dan parameter dalam algoritma. "
   ]
  }
 ],
 "metadata": {
  "kernelspec": {
   "display_name": "Python 3",
   "language": "python",
   "name": "python3"
  },
  "language_info": {
   "codemirror_mode": {
    "name": "ipython",
    "version": 3
   },
   "file_extension": ".py",
   "mimetype": "text/x-python",
   "name": "python",
   "nbconvert_exporter": "python",
   "pygments_lexer": "ipython3",
   "version": "3.7.6"
  }
 },
 "nbformat": 4,
 "nbformat_minor": 4
}
